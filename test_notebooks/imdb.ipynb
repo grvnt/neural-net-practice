{
 "cells": [
  {
   "cell_type": "code",
   "execution_count": 1,
   "id": "ad8b1ba6",
   "metadata": {},
   "outputs": [
    {
     "name": "stderr",
     "output_type": "stream",
     "text": [
      "2024-04-17 16:58:56.386442: E external/local_xla/xla/stream_executor/cuda/cuda_dnn.cc:9261] Unable to register cuDNN factory: Attempting to register factory for plugin cuDNN when one has already been registered\n",
      "2024-04-17 16:58:56.386635: E external/local_xla/xla/stream_executor/cuda/cuda_fft.cc:607] Unable to register cuFFT factory: Attempting to register factory for plugin cuFFT when one has already been registered\n",
      "2024-04-17 16:58:56.400218: E external/local_xla/xla/stream_executor/cuda/cuda_blas.cc:1515] Unable to register cuBLAS factory: Attempting to register factory for plugin cuBLAS when one has already been registered\n",
      "2024-04-17 16:58:56.425188: I tensorflow/core/platform/cpu_feature_guard.cc:182] This TensorFlow binary is optimized to use available CPU instructions in performance-critical operations.\n",
      "To enable the following instructions: SSE4.1 SSE4.2 AVX AVX2 FMA, in other operations, rebuild TensorFlow with the appropriate compiler flags.\n",
      "2024-04-17 16:58:58.468147: I external/local_xla/xla/stream_executor/cuda/cuda_executor.cc:887] could not open file to read NUMA node: /sys/bus/pci/devices/0000:01:00.0/numa_node\n",
      "Your kernel may have been built without NUMA support.\n",
      "2024-04-17 16:58:58.739436: I external/local_xla/xla/stream_executor/cuda/cuda_executor.cc:887] could not open file to read NUMA node: /sys/bus/pci/devices/0000:01:00.0/numa_node\n",
      "Your kernel may have been built without NUMA support.\n",
      "2024-04-17 16:58:58.739806: I external/local_xla/xla/stream_executor/cuda/cuda_executor.cc:887] could not open file to read NUMA node: /sys/bus/pci/devices/0000:01:00.0/numa_node\n",
      "Your kernel may have been built without NUMA support.\n"
     ]
    }
   ],
   "source": [
    "import tensorflow as tf\n",
    "gpus = tf.config.experimental.list_physical_devices('GPU')\n",
    "if gpus:\n",
    "    gpu = gpus[-1]\n",
    "    tf.config.experimental.set_memory_growth(gpu, True)"
   ]
  },
  {
   "cell_type": "code",
   "execution_count": 2,
   "id": "2d3b2710-3d4b-4670-ae7b-59ced6cf43e2",
   "metadata": {},
   "outputs": [],
   "source": [
    "from tensorflow.keras.datasets import imdb\n",
    "import numpy as np\n",
    "(train_data, train_labels), (test_data, test_labels) = imdb.load_data(\n",
    "    num_words=10000)\n",
    "\n",
    "train_data = np.array(train_data, dtype=object)\n",
    "test_data = np.array(test_data, dtype=object)\n",
    "train_labels = np.array(train_labels)\n",
    "test_labels = np.array(test_labels)"
   ]
  },
  {
   "cell_type": "code",
   "execution_count": 3,
   "id": "b47420c0-788e-454a-9344-bba9289cb267",
   "metadata": {},
   "outputs": [],
   "source": [
    "def vectorize_sequences(sequences, dimension=10000):\n",
    "    results = np.zeros((len(sequences), dimension))\n",
    "    for i, sequence in enumerate(sequences):\n",
    "        for j in sequence:\n",
    "            results[i, j] = 1\n",
    "    return results\n",
    "x_train = vectorize_sequences(train_data)\n",
    "x_test = vectorize_sequences(test_data)"
   ]
  },
  {
   "cell_type": "code",
   "execution_count": 4,
   "id": "a3b6149b-174d-4453-a041-2370265036f2",
   "metadata": {},
   "outputs": [],
   "source": [
    "y_train = np.asarray(train_labels).astype(\"float32\")\n",
    "y_test = np.asarray(test_labels).astype(\"float32\")"
   ]
  },
  {
   "cell_type": "code",
   "execution_count": 5,
   "id": "2ff7611d-3428-40ca-aa2a-884a8f7325be",
   "metadata": {},
   "outputs": [
    {
     "name": "stderr",
     "output_type": "stream",
     "text": [
      "2024-04-17 16:59:50.171180: I external/local_xla/xla/stream_executor/cuda/cuda_executor.cc:887] could not open file to read NUMA node: /sys/bus/pci/devices/0000:01:00.0/numa_node\n",
      "Your kernel may have been built without NUMA support.\n",
      "2024-04-17 16:59:50.171486: I external/local_xla/xla/stream_executor/cuda/cuda_executor.cc:887] could not open file to read NUMA node: /sys/bus/pci/devices/0000:01:00.0/numa_node\n",
      "Your kernel may have been built without NUMA support.\n",
      "2024-04-17 16:59:50.171679: I external/local_xla/xla/stream_executor/cuda/cuda_executor.cc:887] could not open file to read NUMA node: /sys/bus/pci/devices/0000:01:00.0/numa_node\n",
      "Your kernel may have been built without NUMA support.\n",
      "2024-04-17 16:59:51.272324: I external/local_xla/xla/stream_executor/cuda/cuda_executor.cc:887] could not open file to read NUMA node: /sys/bus/pci/devices/0000:01:00.0/numa_node\n",
      "Your kernel may have been built without NUMA support.\n",
      "2024-04-17 16:59:51.273397: I external/local_xla/xla/stream_executor/cuda/cuda_executor.cc:887] could not open file to read NUMA node: /sys/bus/pci/devices/0000:01:00.0/numa_node\n",
      "Your kernel may have been built without NUMA support.\n",
      "2024-04-17 16:59:51.273423: I tensorflow/core/common_runtime/gpu/gpu_device.cc:2022] Could not identify NUMA node of platform GPU id 0, defaulting to 0.  Your kernel may not have been built with NUMA support.\n",
      "2024-04-17 16:59:51.275796: I external/local_xla/xla/stream_executor/cuda/cuda_executor.cc:887] could not open file to read NUMA node: /sys/bus/pci/devices/0000:01:00.0/numa_node\n",
      "Your kernel may have been built without NUMA support.\n",
      "2024-04-17 16:59:51.275972: I tensorflow/core/common_runtime/gpu/gpu_device.cc:1929] Created device /job:localhost/replica:0/task:0/device:GPU:0 with 5564 MB memory:  -> device: 0, name: NVIDIA GeForce RTX 3070 Ti Laptop GPU, pci bus id: 0000:01:00.0, compute capability: 8.6\n"
     ]
    }
   ],
   "source": [
    "from tensorflow import keras\n",
    "from tensorflow.keras import layers\n",
    "\n",
    "model = keras.Sequential([\n",
    "    layers.Dense(16, activation=\"relu\"),\n",
    "    layers.Dense(16, activation=\"relu\"),\n",
    "    layers.Dense(1, activation=\"sigmoid\")\n",
    "])"
   ]
  },
  {
   "cell_type": "code",
   "execution_count": 6,
   "id": "f2d79728-0580-43a3-929c-aaedf88454e9",
   "metadata": {},
   "outputs": [],
   "source": [
    "model.compile(optimizer=\"rmsprop\",\n",
    "              loss=\"binary_crossentropy\",\n",
    "              metrics=[\"accuracy\"])"
   ]
  },
  {
   "cell_type": "code",
   "execution_count": 7,
   "id": "b3b9a376-4f0a-4cc6-b7fb-d8ed805be967",
   "metadata": {},
   "outputs": [],
   "source": [
    "x_val = x_train[:10000]\n",
    "partial_x_train = x_train[10000:]\n",
    "y_val = y_train[:10000]\n",
    "partial_y_train = y_train[10000:]"
   ]
  },
  {
   "cell_type": "code",
   "execution_count": 8,
   "id": "d4be0c22-041f-48e7-a7be-7d2a7e2fd45a",
   "metadata": {},
   "outputs": [
    {
     "name": "stderr",
     "output_type": "stream",
     "text": [
      "2024-04-17 17:00:43.344979: W external/local_tsl/tsl/framework/cpu_allocator_impl.cc:83] Allocation of 600000000 exceeds 10% of free system memory.\n",
      "2024-04-17 17:00:49.540782: W external/local_tsl/tsl/framework/cpu_allocator_impl.cc:83] Allocation of 600000000 exceeds 10% of free system memory.\n"
     ]
    },
    {
     "name": "stdout",
     "output_type": "stream",
     "text": [
      "Epoch 1/20\n"
     ]
    },
    {
     "name": "stderr",
     "output_type": "stream",
     "text": [
      "2024-04-17 17:00:50.852587: W external/local_tsl/tsl/framework/cpu_allocator_impl.cc:83] Allocation of 20480000 exceeds 10% of free system memory.\n",
      "2024-04-17 17:00:50.854420: W external/local_tsl/tsl/framework/cpu_allocator_impl.cc:83] Allocation of 20480000 exceeds 10% of free system memory.\n",
      "2024-04-17 17:00:50.857143: W external/local_tsl/tsl/framework/cpu_allocator_impl.cc:83] Allocation of 20480000 exceeds 10% of free system memory.\n",
      "2024-04-17 17:00:52.409769: I external/local_xla/xla/service/service.cc:168] XLA service 0x7fc2446ebcb0 initialized for platform CUDA (this does not guarantee that XLA will be used). Devices:\n",
      "2024-04-17 17:00:52.409826: I external/local_xla/xla/service/service.cc:176]   StreamExecutor device (0): NVIDIA GeForce RTX 3070 Ti Laptop GPU, Compute Capability 8.6\n",
      "2024-04-17 17:00:52.441934: I tensorflow/compiler/mlir/tensorflow/utils/dump_mlir_util.cc:269] disabling MLIR crash reproducer, set env var `MLIR_CRASH_REPRODUCER_DIRECTORY` to enable.\n",
      "2024-04-17 17:00:52.519825: I external/local_xla/xla/stream_executor/cuda/cuda_dnn.cc:454] Loaded cuDNN version 8907\n",
      "WARNING: All log messages before absl::InitializeLog() is called are written to STDERR\n",
      "I0000 00:00:1713366052.608781   20181 device_compiler.h:186] Compiled cluster using XLA!  This line is logged at most once for the lifetime of the process.\n"
     ]
    },
    {
     "name": "stdout",
     "output_type": "stream",
     "text": [
      "30/30 [==============================] - 15s 415ms/step - loss: 0.5310 - accuracy: 0.7635 - val_loss: 0.3969 - val_accuracy: 0.8620\n",
      "Epoch 2/20\n",
      "30/30 [==============================] - 1s 32ms/step - loss: 0.3219 - accuracy: 0.8956 - val_loss: 0.3167 - val_accuracy: 0.8762\n",
      "Epoch 3/20\n",
      "30/30 [==============================] - 1s 42ms/step - loss: 0.2392 - accuracy: 0.9207 - val_loss: 0.2798 - val_accuracy: 0.8901\n",
      "Epoch 4/20\n",
      "30/30 [==============================] - 1s 50ms/step - loss: 0.1922 - accuracy: 0.9367 - val_loss: 0.2966 - val_accuracy: 0.8803\n",
      "Epoch 5/20\n",
      "30/30 [==============================] - 1s 36ms/step - loss: 0.1621 - accuracy: 0.9472 - val_loss: 0.2788 - val_accuracy: 0.8880\n",
      "Epoch 6/20\n",
      "30/30 [==============================] - 1s 40ms/step - loss: 0.1380 - accuracy: 0.9552 - val_loss: 0.2868 - val_accuracy: 0.8850\n",
      "Epoch 7/20\n",
      "30/30 [==============================] - 2s 58ms/step - loss: 0.1170 - accuracy: 0.9635 - val_loss: 0.3025 - val_accuracy: 0.8841\n",
      "Epoch 8/20\n",
      "30/30 [==============================] - 1s 33ms/step - loss: 0.1001 - accuracy: 0.9703 - val_loss: 0.3370 - val_accuracy: 0.8780\n",
      "Epoch 9/20\n",
      "30/30 [==============================] - 1s 37ms/step - loss: 0.0873 - accuracy: 0.9748 - val_loss: 0.3765 - val_accuracy: 0.8678\n",
      "Epoch 10/20\n",
      "30/30 [==============================] - 1s 48ms/step - loss: 0.0760 - accuracy: 0.9792 - val_loss: 0.3484 - val_accuracy: 0.8801\n",
      "Epoch 11/20\n",
      "30/30 [==============================] - 1s 45ms/step - loss: 0.0665 - accuracy: 0.9817 - val_loss: 0.3712 - val_accuracy: 0.8742\n",
      "Epoch 12/20\n",
      "30/30 [==============================] - 1s 41ms/step - loss: 0.0593 - accuracy: 0.9849 - val_loss: 0.3873 - val_accuracy: 0.8775\n",
      "Epoch 13/20\n",
      "30/30 [==============================] - 1s 51ms/step - loss: 0.0461 - accuracy: 0.9901 - val_loss: 0.4043 - val_accuracy: 0.8771\n",
      "Epoch 14/20\n",
      "30/30 [==============================] - 3s 96ms/step - loss: 0.0413 - accuracy: 0.9913 - val_loss: 0.4322 - val_accuracy: 0.8727\n",
      "Epoch 15/20\n",
      "30/30 [==============================] - 1s 48ms/step - loss: 0.0355 - accuracy: 0.9935 - val_loss: 0.4538 - val_accuracy: 0.8724\n",
      "Epoch 16/20\n",
      "30/30 [==============================] - 1s 43ms/step - loss: 0.0301 - accuracy: 0.9945 - val_loss: 0.4822 - val_accuracy: 0.8712\n",
      "Epoch 17/20\n",
      "30/30 [==============================] - 1s 41ms/step - loss: 0.0262 - accuracy: 0.9952 - val_loss: 0.4993 - val_accuracy: 0.8726\n",
      "Epoch 18/20\n",
      "30/30 [==============================] - 1s 34ms/step - loss: 0.0221 - accuracy: 0.9969 - val_loss: 0.5247 - val_accuracy: 0.8703\n",
      "Epoch 19/20\n",
      "30/30 [==============================] - 1s 40ms/step - loss: 0.0193 - accuracy: 0.9974 - val_loss: 0.5472 - val_accuracy: 0.8704\n",
      "Epoch 20/20\n",
      "30/30 [==============================] - 1s 35ms/step - loss: 0.0158 - accuracy: 0.9975 - val_loss: 0.5728 - val_accuracy: 0.8695\n"
     ]
    }
   ],
   "source": [
    "history = model.fit(partial_x_train,\n",
    "                    partial_y_train,\n",
    "                    epochs=20,\n",
    "                    batch_size=512,\n",
    "                    validation_data=(x_val, y_val))"
   ]
  },
  {
   "cell_type": "code",
   "execution_count": 9,
   "id": "aa78b6ae-18ed-4077-8d6f-ba6d52236ba4",
   "metadata": {},
   "outputs": [],
   "source": [
    "history_dict = history.history"
   ]
  },
  {
   "cell_type": "code",
   "execution_count": 10,
   "id": "787358e1-5cec-4bce-9876-d3611b12aa17",
   "metadata": {},
   "outputs": [
    {
     "data": {
      "text/plain": [
       "dict_keys(['loss', 'accuracy', 'val_loss', 'val_accuracy'])"
      ]
     },
     "execution_count": 10,
     "metadata": {},
     "output_type": "execute_result"
    }
   ],
   "source": [
    "history_dict.keys()"
   ]
  },
  {
   "cell_type": "code",
   "execution_count": 12,
   "id": "29d8addf-5920-421f-867a-3d4336647d62",
   "metadata": {},
   "outputs": [
    {
     "data": {
      "image/png": "[encoded data removed]",
      "text/plain": [
       "<Figure size 640x480 with 1 Axes>"
      ]
     },
     "metadata": {},
     "output_type": "display_data"
    }
   ],
   "source": [
    "import matplotlib.pyplot as plt\n",
    "history_dict = history.history\n",
    "loss_values = history_dict[\"loss\"]\n",
    "val_loss_values = history_dict[\"val_loss\"]\n",
    "epochs = range(1, len(loss_values) + 1)\n",
    "plt.plot(epochs, loss_values, \"bo\", label=\"Training loss\")\n",
    "plt.plot(epochs, val_loss_values, \"b\", label=\"Validation loss\")\n",
    "plt.title(\"Training and validation loss\")\n",
    "plt.xlabel(\"Epochs\")\n",
    "plt.ylabel(\"Loss\")\n",
    "plt.legend()\n",
    "plt.show()"
   ]
  },
  {
   "cell_type": "code",
   "execution_count": 13,
   "id": "68d40dd0-588b-434e-998d-e8b28016006d",
   "metadata": {},
   "outputs": [
    {
     "data": {
      "image/png": "[encoded data removed]",
      "text/plain": [
       "<Figure size 640x480 with 1 Axes>"
      ]
     },
     "metadata": {},
     "output_type": "display_data"
    }
   ],
   "source": [
    "plt.clf()\n",
    "acc = history_dict[\"accuracy\"]\n",
    "val_acc = history_dict[\"val_accuracy\"]\n",
    "plt.plot(epochs, acc, \"bo\", label=\"Training acc\")\n",
    "plt.plot(epochs, val_acc, \"b\", label=\"Validation acc\")\n",
    "plt.title(\"Training and validation accuracy\")\n",
    "plt.xlabel(\"Epochs\")\n",
    "plt.ylabel(\"Accuracy\")\n",
    "plt.legend()\n",
    "plt.show()"
   ]
  },
  {
   "cell_type": "code",
   "execution_count": 15,
   "id": "caa6bc23",
   "metadata": {},
   "outputs": [],
   "source": [
    "model = keras.Sequential([\n",
    "    layers.Dense(16, activation=\"relu\"),\n",
    "    layers.Dense(16, activation=\"relu\"),\n",
    "    layers.Dense(1, activation=\"sigmoid\")\n",
    "])\n",
    "\n",
    "model.compile(optimizer=\"rmsprop\",\n",
    "              loss=\"binary_crossentropy\",\n",
    "              metrics=[\"accuracy\"])"
   ]
  },
  {
   "cell_type": "code",
   "execution_count": 16,
   "id": "2a52e38f",
   "metadata": {},
   "outputs": [
    {
     "name": "stdout",
     "output_type": "stream",
     "text": [
      "Epoch 1/4\n",
      "196/196 [==============================] - 4s 14ms/step - loss: 0.3531 - accuracy: 0.8549\n",
      "Epoch 2/4\n",
      "196/196 [==============================] - 3s 14ms/step - loss: 0.2108 - accuracy: 0.9205\n",
      "Epoch 3/4\n",
      "196/196 [==============================] - 3s 15ms/step - loss: 0.1691 - accuracy: 0.9380\n",
      "Epoch 4/4\n",
      "196/196 [==============================] - 3s 15ms/step - loss: 0.1413 - accuracy: 0.9476\n"
     ]
    },
    {
     "data": {
      "text/plain": [
       "<keras.src.callbacks.History at 0x7fc3d9976dd0>"
      ]
     },
     "execution_count": 16,
     "metadata": {},
     "output_type": "execute_result"
    }
   ],
   "source": [
    "model.fit(x_train, y_train, epochs=4, batch_size=128)"
   ]
  },
  {
   "cell_type": "code",
   "execution_count": 17,
   "id": "56dc0e8c",
   "metadata": {},
   "outputs": [
    {
     "name": "stdout",
     "output_type": "stream",
     "text": [
      "782/782 [==============================] - 5s 6ms/step - loss: 0.3525 - accuracy: 0.8714\n"
     ]
    }
   ],
   "source": [
    "results = model.evaluate(x_test, y_test)"
   ]
  },
  {
   "cell_type": "code",
   "execution_count": 18,
   "id": "f710e3a3",
   "metadata": {},
   "outputs": [
    {
     "data": {
      "text/plain": [
       "[0.352477490901947, 0.8714399933815002]"
      ]
     },
     "execution_count": 18,
     "metadata": {},
     "output_type": "execute_result"
    }
   ],
   "source": [
    "results"
   ]
  }
 ],
 "metadata": {
  "kernelspec": {
   "display_name": "Python 3 (ipykernel)",
   "language": "python",
   "name": "python3"
  },
  "language_info": {
   "codemirror_mode": {
    "name": "ipython",
    "version": 3
   },
   "file_extension": ".py",
   "mimetype": "text/x-python",
   "name": "python",
   "nbconvert_exporter": "python",
   "pygments_lexer": "ipython3",
   "version": "3.11.8"
  }
 },
 "nbformat": 4,
 "nbformat_minor": 5
}
